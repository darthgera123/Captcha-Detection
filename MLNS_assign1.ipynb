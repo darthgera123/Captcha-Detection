{
 "cells": [
  {
   "cell_type": "markdown",
   "metadata": {},
   "source": [
    "# Sum of Captcha Numbers"
   ]
  },
  {
   "cell_type": "markdown",
   "metadata": {},
   "source": [
    "## Approach\n",
    "This will be a 2 step process. We first train a simple model capable of doing MNIST digit recognition. Then we take 4 instances of this model and pass our 4 outputs through them and the output is taken as an input vector to the final layer. The output of the final layer is our answer which is compared with the label that we have. We first train the model and then train the whole thing end 2 end."
   ]
  },
  {
   "cell_type": "code",
   "execution_count": 1,
   "metadata": {},
   "outputs": [],
   "source": [
    "import numpy as np\n",
    "import matplotlib.pyplot as plt\n",
    "import os\n",
    "import cv2\n",
    "import torch\n",
    "import torch.nn as nn\n",
    "import torch.nn.functional as F\n",
    "import torch.optim as optim\n",
    "from torch.utils.data import DataLoader, Dataset\n",
    "from torchvision import datasets, transforms\n",
    "from tqdm import tqdm\n",
    "from torchsummary import summary"
   ]
  },
  {
   "cell_type": "code",
   "execution_count": 2,
   "metadata": {},
   "outputs": [
    {
     "name": "stdout",
     "output_type": "stream",
     "text": [
      "(30000, 40, 168) (30000,)\n"
     ]
    }
   ],
   "source": [
    "train_data=np.load('Assign1/Data/data0.npy')\n",
    "train_labels=np.load('Assign1/Data/lab0.npy')\n",
    "for i in range(1,3):\n",
    "    temp_data = np.load(f'Assign1/Data/data{i}.npy')\n",
    "    temp_label = np.load(f'Assign1/Data/lab{i}.npy')\n",
    "    train_data = np.concatenate((train_data,temp_data))\n",
    "    train_labels = np.concatenate((train_labels,temp_label))\n",
    "print(train_data.shape,train_labels.shape)"
   ]
  },
  {
   "cell_type": "markdown",
   "metadata": {},
   "source": [
    "## Segmentation\n",
    "We use multiple computer vision techniques to segment the numbers out into different images."
   ]
  },
  {
   "cell_type": "code",
   "execution_count": 3,
   "metadata": {},
   "outputs": [],
   "source": [
    "def seg_image(img):\n",
    "    w,h = int(168*1.5),int(40*1.5)\n",
    "    img = cv2.resize(img,(w, h))\n",
    "    gray = cv2.copyMakeBorder(img, 8, 8, 8, 8, cv2.BORDER_REPLICATE)\n",
    "    gray = cv2.resize(gray,(w, h))\n",
    "    kernel = np.ones((2, 2), np.uint8) \n",
    "    gray = cv2.erode(gray, kernel)\n",
    "    letter_image_regions = []\n",
    " \n",
    "    # finding the contours\n",
    "    contours, hierarchy = cv2.findContours(gray.copy(), cv2.RETR_EXTERNAL, cv2.CHAIN_APPROX_SIMPLE)[-2:]\n",
    "    for contour in contours:\n",
    "      # Get the rectangle that contains the contour\n",
    "      (x, y, w, h) = cv2.boundingRect(contour)\n",
    "\n",
    "      # checking if any counter is too wide\n",
    "      # if countour is too wide then there could be two letters joined together or are very close to each other\n",
    "      if w / h > 1.25:\n",
    "        # Split it in half into two letter regions\n",
    "        half_width = int(w / 2)\n",
    "        letter_image_regions.append((x, y, half_width, h))\n",
    "        letter_image_regions.append((x + half_width, y, half_width, h))\n",
    "      else:  \n",
    "        letter_image_regions.append((x, y, w, h))\n",
    "    letter_image_regions = sorted(letter_image_regions, key=lambda x: x[0])\n",
    "    segmentation = []\n",
    "    for i in range(len(letter_image_regions)):\n",
    "        x,y,w,h = letter_image_regions[i]\n",
    "#         print(w*h)\n",
    "        if w*h > 100:\n",
    "#             img_dil = cv2.dilate(gray[y - 2:y + h + 2, x - 2:x + w + 2],kernel)\n",
    "            img_dil = gray[y - 2:y + h + 2, x - 2:x + w + 2]\n",
    "            img_dil = cv2.copyMakeBorder(img_dil, 8, 8, 8, 8, cv2.BORDER_REPLICATE)\n",
    "            segmentation.append(cv2.dilate(img_dil,kernel))\n",
    "#             segmentation.append(gray[y:y + h, x :x + w ])\n",
    "    return segmentation"
   ]
  },
  {
   "cell_type": "code",
   "execution_count": 4,
   "metadata": {},
   "outputs": [
    {
     "name": "stdout",
     "output_type": "stream",
     "text": [
      "17\n"
     ]
    },
    {
     "data": {
      "image/png": "[encoded data removed]",
      "text/plain": [
       "<Figure size 432x288 with 4 Axes>"
      ]
     },
     "metadata": {
      "needs_background": "light"
     },
     "output_type": "display_data"
    }
   ],
   "source": [
    "ind = 48\n",
    "img = train_data[ind]\n",
    "segs = seg_image(img)\n",
    "zero = segs[-1]\n",
    "print(train_labels[ind])\n",
    "for i in range(len(segs)):\n",
    "    plt.subplot(1,len(segs),i+1)\n",
    "    plt.imshow(segs[i])"
   ]
  },
  {
   "cell_type": "markdown",
   "metadata": {},
   "source": [
    "## Configuration\n",
    "We define the global variables here"
   ]
  },
  {
   "cell_type": "code",
   "execution_count": 5,
   "metadata": {},
   "outputs": [],
   "source": [
    "class CFG:\n",
    "    batch_size=128\n",
    "    momentum_value = 0.9\n",
    "    epochs=50\n",
    "    lr = 1e-2\n",
    "    seed = 42\n",
    "    num_workers=4\n",
    "    device = 'cuda' if torch.cuda.is_available() else 'cpu'\n",
    "    model_name='custom'\n",
    "    valid_size = 0.3\n",
    "    size=28"
   ]
  },
  {
   "cell_type": "markdown",
   "metadata": {},
   "source": [
    "## Dataset\n",
    "We prepare the dataset by splitting it into train and cross validation. Then we add some augmentation to make the training process more robust. This includes rotation,translation,scaling,etc. We also add Erasing in augmentation"
   ]
  },
  {
   "cell_type": "code",
   "execution_count": 6,
   "metadata": {},
   "outputs": [],
   "source": [
    "torch.manual_seed(CFG.seed)\n",
    "RandAffine = transforms.RandomAffine(degrees=45, translate=(0.1, 0.1), scale=(0.8, 1.2))\n",
    "\n",
    "\n",
    "train_loader = torch.utils.data.DataLoader(\n",
    "    datasets.MNIST('data', train=True, download=True,\n",
    "    transform=transforms.Compose([\n",
    "        transforms.RandomAffine(degrees=45,  translate=(0.1, 0.1), scale=(0.8, 1.2)),\n",
    "        transforms.RandomPerspective(p=0.3),\n",
    "        transforms.ToTensor(),\n",
    "#         RandAffine,\n",
    "        transforms.Normalize((0.1307,), (0.3081,)),\n",
    "        transforms.RandomErasing(p=0.3)\n",
    "        ])),\n",
    "    batch_size=CFG.batch_size, shuffle=True, num_workers=CFG.num_workers)\n",
    "\n",
    "test_loader = torch.utils.data.DataLoader(\n",
    "    datasets.MNIST('data', train=False,\n",
    "    transform=transforms.Compose([\n",
    "        transforms.ToTensor(),\n",
    "        transforms.Normalize((0.1307,), (0.3081,))\n",
    "        ])),\n",
    "     batch_size=CFG.batch_size, shuffle=True, num_workers=CFG.num_workers)"
   ]
  },
  {
   "cell_type": "markdown",
   "metadata": {},
   "source": [
    "## Model\n",
    "We define our model here. Model summary is given below"
   ]
  },
  {
   "cell_type": "code",
   "execution_count": 101,
   "metadata": {},
   "outputs": [],
   "source": [
    "class Net(nn.Module):\n",
    "    def __init__(self):\n",
    "        super(Net, self).__init__()\n",
    "        \n",
    "        self.conv1 = nn.Sequential(nn.Conv2d(1, 32, kernel_size=3, stride=1, padding=1),\n",
    "                                    nn.BatchNorm2d(32),\n",
    "                                    nn.ReLU(inplace=True))\n",
    "        self.conv2 = nn.Sequential(nn.Conv2d(32, 64, kernel_size=3, stride=1, padding=1),\n",
    "                                    nn.BatchNorm2d(64),\n",
    "                                    nn.ReLU(inplace=True))\n",
    "        self.pool1 = nn.MaxPool2d(kernel_size=2, stride=2)\n",
    "        self.conv3 = nn.Sequential(nn.Conv2d(64, 128, kernel_size=3, stride=1, padding=1),\n",
    "                                    nn.BatchNorm2d(128),\n",
    "                                    nn.ReLU(inplace=True))\n",
    "        self.pool2 = nn.MaxPool2d(kernel_size=2, stride=2)\n",
    "        \n",
    "        self.lin1 = nn.Sequential(nn.Dropout(p=0.5),\n",
    "                                nn.Linear(128*7*7, 128),\n",
    "                                nn.BatchNorm1d(128),\n",
    "                                nn.ReLU(inplace=True))\n",
    "        self.lin2 = nn.Sequential(nn.Dropout(0.5),\n",
    "                                nn.Linear(128, 64),\n",
    "                                nn.BatchNorm1d(64),\n",
    "                                nn.ReLU(inplace=True))\n",
    "        self.lin3 = nn.Sequential(nn.Dropout(0.5),\n",
    "                                    nn.Linear(64, 10)\n",
    "        )\n",
    "        \n",
    "    def forward(self, x):\n",
    "        x = self.conv1(x)\n",
    "        x = self.conv2(x)\n",
    "        x = self.pool1(x)\n",
    "        x = self.conv3(x)\n",
    "        x = self.pool2(x)\n",
    "        x = x.view(x.size(0), -1)\n",
    "        x = self.lin1(x)\n",
    "        x = self.lin2(x)\n",
    "        x = self.lin3(x)\n",
    "        return x\n",
    "\n",
    "    \n",
    "class AverageMeter(object):\n",
    "    def __init__(self):\n",
    "        self.reset()\n",
    "    \n",
    "    def reset(self):\n",
    "        self.val = 0\n",
    "        self.avg = 0\n",
    "        self.sum = 0\n",
    "        self.count = 0\n",
    "        \n",
    "    def update(self,val,n=1):\n",
    "        self.val += val\n",
    "        self.sum += val*n\n",
    "        self.count += n\n",
    "        self.avg = self.sum/self.count\n",
    "    def accuracy(self):\n",
    "        return self.sum/self.count"
   ]
  },
  {
   "cell_type": "code",
   "execution_count": 102,
   "metadata": {},
   "outputs": [
    {
     "name": "stdout",
     "output_type": "stream",
     "text": [
      "----------------------------------------------------------------\n",
      "        Layer (type)               Output Shape         Param #\n",
      "================================================================\n",
      "            Conv2d-1           [-1, 32, 28, 28]             320\n",
      "       BatchNorm2d-2           [-1, 32, 28, 28]              64\n",
      "              ReLU-3           [-1, 32, 28, 28]               0\n",
      "            Conv2d-4           [-1, 64, 28, 28]          18,496\n",
      "       BatchNorm2d-5           [-1, 64, 28, 28]             128\n",
      "              ReLU-6           [-1, 64, 28, 28]               0\n",
      "         MaxPool2d-7           [-1, 64, 14, 14]               0\n",
      "            Conv2d-8          [-1, 128, 14, 14]          73,856\n",
      "       BatchNorm2d-9          [-1, 128, 14, 14]             256\n",
      "             ReLU-10          [-1, 128, 14, 14]               0\n",
      "        MaxPool2d-11            [-1, 128, 7, 7]               0\n",
      "          Dropout-12                 [-1, 6272]               0\n",
      "           Linear-13                  [-1, 128]         802,944\n",
      "      BatchNorm1d-14                  [-1, 128]             256\n",
      "             ReLU-15                  [-1, 128]               0\n",
      "          Dropout-16                  [-1, 128]               0\n",
      "           Linear-17                   [-1, 64]           8,256\n",
      "      BatchNorm1d-18                   [-1, 64]             128\n",
      "             ReLU-19                   [-1, 64]               0\n",
      "          Dropout-20                   [-1, 64]               0\n",
      "           Linear-21                   [-1, 10]             650\n",
      "================================================================\n",
      "Total params: 905,354\n",
      "Trainable params: 905,354\n",
      "Non-trainable params: 0\n",
      "----------------------------------------------------------------\n",
      "Input size (MB): 0.00\n",
      "Forward/backward pass size (MB): 2.49\n",
      "Params size (MB): 3.45\n",
      "Estimated Total Size (MB): 5.95\n",
      "----------------------------------------------------------------\n"
     ]
    }
   ],
   "source": [
    "model = Net()\n",
    "model = model.to(CFG.device)\n",
    "summary(model,(1,28,28))\n",
    "optimizer = optim.Adam(model.parameters(),lr=CFG.lr)\n",
    "criterion = nn.CrossEntropyLoss()"
   ]
  },
  {
   "cell_type": "code",
   "execution_count": 67,
   "metadata": {},
   "outputs": [],
   "source": [
    "from tqdm import tqdm\n",
    "def train(model,train_loader, optimizer,criterion, epoch):\n",
    "    train_loss = AverageMeter()\n",
    "    train_accuracy = AverageMeter()\n",
    "    model.train()\n",
    "    correct = 0\n",
    "    pbar = tqdm(train_loader)\n",
    "    for batch_idx, (data, target) in enumerate(pbar):\n",
    "        data, target = data.to(CFG.device), target.to(CFG.device)\n",
    "        optimizer.zero_grad()\n",
    "        output = model(data)\n",
    "        loss = criterion(output, target)\n",
    "        pred = output.argmax(dim=1, keepdim=True)\n",
    "        correct += pred.eq(target.view_as(pred)).sum().item()\n",
    "        loss.backward()\n",
    "        optimizer.step()\n",
    "        pbar.set_description(desc= f'epoch: {epoch} loss={loss.item()} batch_id={batch_idx}')\n",
    "        train_loss.update(loss.item())\n",
    "    train_accuracy.sum = correct\n",
    "    train_accuracy.count = len(train_loader.dataset)\n",
    "    return train_loss.avg,train_accuracy.accuracy()*100.0\n",
    "\n",
    "def test(model, criterion,test_loader):\n",
    "    model.eval()\n",
    "    test_loss = AverageMeter()\n",
    "    test_accuracy = AverageMeter()\n",
    "    correct = 0\n",
    "    with torch.no_grad():\n",
    "        for data, target in test_loader:\n",
    "            data, target = data.to(CFG.device), target.to(CFG.device)\n",
    "            output = model(data)\n",
    "            test_loss.update(criterion(output, target).item())\n",
    "            pred = output.argmax(dim=1, keepdim=True)\n",
    "            correct += pred.eq(target.view_as(pred)).sum().item()\n",
    "#     test_loss /= len(test_loader.dataset)\n",
    "    test_accuracy.sum = correct\n",
    "    test_accuracy.count = len(test_loader.dataset)\n",
    "    print('\\nTest set: Average loss: {:.4f}, Accuracy: {}/{}({}%)\\n'.format(test_loss.avg, test_accuracy.sum,\\\n",
    "          len(test_loader.dataset),  100*test_accuracy.accuracy()))\n",
    "    return test_loss.avg,100.0*test_accuracy.accuracy()"
   ]
  },
  {
   "cell_type": "markdown",
   "metadata": {},
   "source": [
    "## Training\n",
    "We now train the model and collect different statistics. The plots are given below"
   ]
  },
  {
   "cell_type": "code",
   "execution_count": 68,
   "metadata": {},
   "outputs": [
    {
     "name": "stderr",
     "output_type": "stream",
     "text": [
      "epoch: 1 loss=0.7881118655204773 batch_id=468: 100%|██████████| 469/469 [00:06<00:00, 75.89it/s] \n",
      "  0%|          | 0/469 [00:00<?, ?it/s]"
     ]
    },
    {
     "name": "stdout",
     "output_type": "stream",
     "text": [
      "\n",
      "Test set: Average loss: 0.1000, Accuracy: 9655/10000(96.55%)\n",
      "\n",
      "Saving Model\n"
     ]
    },
    {
     "name": "stderr",
     "output_type": "stream",
     "text": [
      "epoch: 2 loss=0.5159520506858826 batch_id=468: 100%|██████████| 469/469 [00:06<00:00, 70.45it/s] \n",
      "  0%|          | 0/469 [00:00<?, ?it/s]"
     ]
    },
    {
     "name": "stdout",
     "output_type": "stream",
     "text": [
      "\n",
      "Test set: Average loss: 0.0773, Accuracy: 9751/10000(97.50999999999999%)\n",
      "\n",
      "Saving Model\n"
     ]
    },
    {
     "name": "stderr",
     "output_type": "stream",
     "text": [
      "epoch: 3 loss=0.7050521969795227 batch_id=468: 100%|██████████| 469/469 [00:06<00:00, 67.97it/s] \n",
      "  0%|          | 0/469 [00:00<?, ?it/s]"
     ]
    },
    {
     "name": "stdout",
     "output_type": "stream",
     "text": [
      "\n",
      "Test set: Average loss: 0.0757, Accuracy: 9760/10000(97.6%)\n",
      "\n",
      "Saving Model\n"
     ]
    },
    {
     "name": "stderr",
     "output_type": "stream",
     "text": [
      "epoch: 4 loss=0.40189483761787415 batch_id=468: 100%|██████████| 469/469 [00:06<00:00, 73.72it/s]\n",
      "  0%|          | 0/469 [00:00<?, ?it/s]"
     ]
    },
    {
     "name": "stdout",
     "output_type": "stream",
     "text": [
      "\n",
      "Test set: Average loss: 0.0551, Accuracy: 9832/10000(98.32%)\n",
      "\n",
      "Saving Model\n"
     ]
    },
    {
     "name": "stderr",
     "output_type": "stream",
     "text": [
      "epoch: 5 loss=0.762434184551239 batch_id=468: 100%|██████████| 469/469 [00:06<00:00, 70.60it/s]  \n",
      "  0%|          | 0/469 [00:00<?, ?it/s]"
     ]
    },
    {
     "name": "stdout",
     "output_type": "stream",
     "text": [
      "\n",
      "Test set: Average loss: 0.0543, Accuracy: 9825/10000(98.25%)\n",
      "\n",
      "Saving Model\n"
     ]
    },
    {
     "name": "stderr",
     "output_type": "stream",
     "text": [
      "epoch: 6 loss=0.5779196619987488 batch_id=468: 100%|██████████| 469/469 [00:06<00:00, 67.09it/s] \n",
      "  0%|          | 0/469 [00:00<?, ?it/s]"
     ]
    },
    {
     "name": "stdout",
     "output_type": "stream",
     "text": [
      "\n",
      "Test set: Average loss: 0.0490, Accuracy: 9837/10000(98.37%)\n",
      "\n",
      "Saving Model\n"
     ]
    },
    {
     "name": "stderr",
     "output_type": "stream",
     "text": [
      "epoch: 7 loss=0.38180145621299744 batch_id=468: 100%|██████████| 469/469 [00:06<00:00, 71.23it/s]\n",
      "  0%|          | 0/469 [00:00<?, ?it/s]"
     ]
    },
    {
     "name": "stdout",
     "output_type": "stream",
     "text": [
      "\n",
      "Test set: Average loss: 0.0459, Accuracy: 9839/10000(98.39%)\n",
      "\n",
      "Saving Model\n"
     ]
    },
    {
     "name": "stderr",
     "output_type": "stream",
     "text": [
      "epoch: 8 loss=0.33799779415130615 batch_id=468: 100%|██████████| 469/469 [00:06<00:00, 67.55it/s]\n",
      "  0%|          | 0/469 [00:00<?, ?it/s]"
     ]
    },
    {
     "name": "stdout",
     "output_type": "stream",
     "text": [
      "\n",
      "Test set: Average loss: 0.0472, Accuracy: 9854/10000(98.54%)\n",
      "\n"
     ]
    },
    {
     "name": "stderr",
     "output_type": "stream",
     "text": [
      "epoch: 9 loss=0.42708590626716614 batch_id=468: 100%|██████████| 469/469 [00:07<00:00, 66.46it/s]\n",
      "  0%|          | 0/469 [00:00<?, ?it/s]"
     ]
    },
    {
     "name": "stdout",
     "output_type": "stream",
     "text": [
      "\n",
      "Test set: Average loss: 0.0402, Accuracy: 9856/10000(98.56%)\n",
      "\n",
      "Saving Model\n"
     ]
    },
    {
     "name": "stderr",
     "output_type": "stream",
     "text": [
      "epoch: 10 loss=0.4671991765499115 batch_id=468: 100%|██████████| 469/469 [00:06<00:00, 68.85it/s] \n",
      "  0%|          | 0/469 [00:00<?, ?it/s]"
     ]
    },
    {
     "name": "stdout",
     "output_type": "stream",
     "text": [
      "\n",
      "Test set: Average loss: 0.0405, Accuracy: 9861/10000(98.61%)\n",
      "\n"
     ]
    },
    {
     "name": "stderr",
     "output_type": "stream",
     "text": [
      "epoch: 11 loss=0.46740320324897766 batch_id=468: 100%|██████████| 469/469 [00:06<00:00, 72.14it/s]\n",
      "  0%|          | 0/469 [00:00<?, ?it/s]"
     ]
    },
    {
     "name": "stdout",
     "output_type": "stream",
     "text": [
      "\n",
      "Test set: Average loss: 0.0411, Accuracy: 9870/10000(98.7%)\n",
      "\n"
     ]
    },
    {
     "name": "stderr",
     "output_type": "stream",
     "text": [
      "epoch: 12 loss=0.503386914730072 batch_id=468: 100%|██████████| 469/469 [00:06<00:00, 70.97it/s]  \n",
      "  0%|          | 0/469 [00:00<?, ?it/s]"
     ]
    },
    {
     "name": "stdout",
     "output_type": "stream",
     "text": [
      "\n",
      "Test set: Average loss: 0.0363, Accuracy: 9875/10000(98.75%)\n",
      "\n",
      "Saving Model\n"
     ]
    },
    {
     "name": "stderr",
     "output_type": "stream",
     "text": [
      "epoch: 13 loss=0.32430151104927063 batch_id=468: 100%|██████████| 469/469 [00:07<00:00, 66.10it/s]\n",
      "  0%|          | 0/469 [00:00<?, ?it/s]"
     ]
    },
    {
     "name": "stdout",
     "output_type": "stream",
     "text": [
      "\n",
      "Test set: Average loss: 0.0427, Accuracy: 9863/10000(98.63%)\n",
      "\n"
     ]
    },
    {
     "name": "stderr",
     "output_type": "stream",
     "text": [
      "epoch: 14 loss=0.3816344439983368 batch_id=468: 100%|██████████| 469/469 [00:06<00:00, 70.80it/s] \n",
      "  0%|          | 0/469 [00:00<?, ?it/s]"
     ]
    },
    {
     "name": "stdout",
     "output_type": "stream",
     "text": [
      "\n",
      "Test set: Average loss: 0.0377, Accuracy: 9879/10000(98.79%)\n",
      "\n"
     ]
    },
    {
     "name": "stderr",
     "output_type": "stream",
     "text": [
      "epoch: 15 loss=0.38171014189720154 batch_id=468: 100%|██████████| 469/469 [00:06<00:00, 70.65it/s]\n",
      "  0%|          | 0/469 [00:00<?, ?it/s]"
     ]
    },
    {
     "name": "stdout",
     "output_type": "stream",
     "text": [
      "\n",
      "Test set: Average loss: 0.0403, Accuracy: 9872/10000(98.72%)\n",
      "\n"
     ]
    },
    {
     "name": "stderr",
     "output_type": "stream",
     "text": [
      "epoch: 16 loss=0.18584398925304413 batch_id=468: 100%|██████████| 469/469 [00:06<00:00, 69.41it/s]\n",
      "  0%|          | 0/469 [00:00<?, ?it/s]"
     ]
    },
    {
     "name": "stdout",
     "output_type": "stream",
     "text": [
      "\n",
      "Test set: Average loss: 0.0328, Accuracy: 9897/10000(98.97%)\n",
      "\n",
      "Saving Model\n"
     ]
    },
    {
     "name": "stderr",
     "output_type": "stream",
     "text": [
      "epoch: 17 loss=0.29907891154289246 batch_id=468: 100%|██████████| 469/469 [00:06<00:00, 69.83it/s]\n",
      "  0%|          | 0/469 [00:00<?, ?it/s]"
     ]
    },
    {
     "name": "stdout",
     "output_type": "stream",
     "text": [
      "\n",
      "Test set: Average loss: 0.0392, Accuracy: 9877/10000(98.77%)\n",
      "\n"
     ]
    },
    {
     "name": "stderr",
     "output_type": "stream",
     "text": [
      "epoch: 18 loss=0.30042991042137146 batch_id=468: 100%|██████████| 469/469 [00:06<00:00, 71.38it/s]\n",
      "  0%|          | 0/469 [00:00<?, ?it/s]"
     ]
    },
    {
     "name": "stdout",
     "output_type": "stream",
     "text": [
      "\n",
      "Test set: Average loss: 0.0383, Accuracy: 9879/10000(98.79%)\n",
      "\n"
     ]
    },
    {
     "name": "stderr",
     "output_type": "stream",
     "text": [
      "epoch: 19 loss=0.25417783856391907 batch_id=468: 100%|██████████| 469/469 [00:06<00:00, 69.81it/s]\n",
      "  0%|          | 0/469 [00:00<?, ?it/s]"
     ]
    },
    {
     "name": "stdout",
     "output_type": "stream",
     "text": [
      "\n",
      "Test set: Average loss: 0.0370, Accuracy: 9883/10000(98.83%)\n",
      "\n"
     ]
    },
    {
     "name": "stderr",
     "output_type": "stream",
     "text": [
      "epoch: 20 loss=0.4305705726146698 batch_id=468: 100%|██████████| 469/469 [00:07<00:00, 65.39it/s] \n",
      "  0%|          | 0/469 [00:00<?, ?it/s]"
     ]
    },
    {
     "name": "stdout",
     "output_type": "stream",
     "text": [
      "\n",
      "Test set: Average loss: 0.0362, Accuracy: 9882/10000(98.82%)\n",
      "\n"
     ]
    },
    {
     "name": "stderr",
     "output_type": "stream",
     "text": [
      "epoch: 21 loss=0.23606431484222412 batch_id=468: 100%|██████████| 469/469 [00:07<00:00, 66.43it/s]\n",
      "  0%|          | 0/469 [00:00<?, ?it/s]"
     ]
    },
    {
     "name": "stdout",
     "output_type": "stream",
     "text": [
      "\n",
      "Test set: Average loss: 0.0347, Accuracy: 9885/10000(98.85000000000001%)\n",
      "\n"
     ]
    },
    {
     "name": "stderr",
     "output_type": "stream",
     "text": [
      "epoch: 22 loss=0.3245214819908142 batch_id=468: 100%|██████████| 469/469 [00:06<00:00, 69.31it/s] \n",
      "  0%|          | 0/469 [00:00<?, ?it/s]"
     ]
    },
    {
     "name": "stdout",
     "output_type": "stream",
     "text": [
      "\n",
      "Test set: Average loss: 0.0355, Accuracy: 9885/10000(98.85000000000001%)\n",
      "\n"
     ]
    },
    {
     "name": "stderr",
     "output_type": "stream",
     "text": [
      "epoch: 23 loss=0.37159404158592224 batch_id=468: 100%|██████████| 469/469 [00:06<00:00, 72.52it/s]\n",
      "  0%|          | 0/469 [00:00<?, ?it/s]"
     ]
    },
    {
     "name": "stdout",
     "output_type": "stream",
     "text": [
      "\n",
      "Test set: Average loss: 0.0342, Accuracy: 9888/10000(98.88%)\n",
      "\n"
     ]
    },
    {
     "name": "stderr",
     "output_type": "stream",
     "text": [
      "epoch: 24 loss=0.4469813406467438 batch_id=468: 100%|██████████| 469/469 [00:06<00:00, 70.68it/s] \n",
      "  0%|          | 0/469 [00:00<?, ?it/s]"
     ]
    },
    {
     "name": "stdout",
     "output_type": "stream",
     "text": [
      "\n",
      "Test set: Average loss: 0.0330, Accuracy: 9896/10000(98.96000000000001%)\n",
      "\n"
     ]
    },
    {
     "name": "stderr",
     "output_type": "stream",
     "text": [
      "epoch: 25 loss=0.297904908657074 batch_id=468: 100%|██████████| 469/469 [00:06<00:00, 72.98it/s]  \n",
      "  0%|          | 0/469 [00:00<?, ?it/s]"
     ]
    },
    {
     "name": "stdout",
     "output_type": "stream",
     "text": [
      "\n",
      "Test set: Average loss: 0.0322, Accuracy: 9904/10000(99.03999999999999%)\n",
      "\n",
      "Saving Model\n"
     ]
    },
    {
     "name": "stderr",
     "output_type": "stream",
     "text": [
      "epoch: 26 loss=0.34830453991889954 batch_id=468: 100%|██████████| 469/469 [00:06<00:00, 69.09it/s]\n",
      "  0%|          | 0/469 [00:00<?, ?it/s]"
     ]
    },
    {
     "name": "stdout",
     "output_type": "stream",
     "text": [
      "\n",
      "Test set: Average loss: 0.0315, Accuracy: 9897/10000(98.97%)\n",
      "\n",
      "Saving Model\n"
     ]
    },
    {
     "name": "stderr",
     "output_type": "stream",
     "text": [
      "epoch: 27 loss=0.22060728073120117 batch_id=468: 100%|██████████| 469/469 [00:06<00:00, 67.64it/s]\n",
      "  0%|          | 0/469 [00:00<?, ?it/s]"
     ]
    },
    {
     "name": "stdout",
     "output_type": "stream",
     "text": [
      "\n",
      "Test set: Average loss: 0.0318, Accuracy: 9902/10000(99.02%)\n",
      "\n"
     ]
    },
    {
     "name": "stderr",
     "output_type": "stream",
     "text": [
      "epoch: 28 loss=0.25415000319480896 batch_id=468: 100%|██████████| 469/469 [00:06<00:00, 71.37it/s]\n",
      "  0%|          | 0/469 [00:00<?, ?it/s]"
     ]
    },
    {
     "name": "stdout",
     "output_type": "stream",
     "text": [
      "\n",
      "Test set: Average loss: 0.0322, Accuracy: 9897/10000(98.97%)\n",
      "\n"
     ]
    },
    {
     "name": "stderr",
     "output_type": "stream",
     "text": [
      "epoch: 29 loss=0.2447071522474289 batch_id=468: 100%|██████████| 469/469 [00:06<00:00, 72.94it/s] \n",
      "  0%|          | 0/469 [00:00<?, ?it/s]"
     ]
    },
    {
     "name": "stdout",
     "output_type": "stream",
     "text": [
      "\n",
      "Test set: Average loss: 0.0309, Accuracy: 9898/10000(98.98%)\n",
      "\n",
      "Saving Model\n"
     ]
    },
    {
     "name": "stderr",
     "output_type": "stream",
     "text": [
      "epoch: 30 loss=0.2680821120738983 batch_id=468: 100%|██████████| 469/469 [00:06<00:00, 68.28it/s] \n",
      "  0%|          | 0/469 [00:00<?, ?it/s]"
     ]
    },
    {
     "name": "stdout",
     "output_type": "stream",
     "text": [
      "\n",
      "Test set: Average loss: 0.0324, Accuracy: 9897/10000(98.97%)\n",
      "\n"
     ]
    },
    {
     "name": "stderr",
     "output_type": "stream",
     "text": [
      "epoch: 31 loss=0.24177421629428864 batch_id=468: 100%|██████████| 469/469 [00:06<00:00, 69.52it/s]\n",
      "  0%|          | 0/469 [00:00<?, ?it/s]"
     ]
    },
    {
     "name": "stdout",
     "output_type": "stream",
     "text": [
      "\n",
      "Test set: Average loss: 0.0288, Accuracy: 9910/10000(99.1%)\n",
      "\n",
      "Saving Model\n"
     ]
    },
    {
     "name": "stderr",
     "output_type": "stream",
     "text": [
      "epoch: 32 loss=0.2842383086681366 batch_id=468: 100%|██████████| 469/469 [00:06<00:00, 71.06it/s] \n",
      "  0%|          | 0/469 [00:00<?, ?it/s]"
     ]
    },
    {
     "name": "stdout",
     "output_type": "stream",
     "text": [
      "\n",
      "Test set: Average loss: 0.0320, Accuracy: 9906/10000(99.06%)\n",
      "\n"
     ]
    },
    {
     "name": "stderr",
     "output_type": "stream",
     "text": [
      "epoch: 33 loss=0.23498676717281342 batch_id=468: 100%|██████████| 469/469 [00:06<00:00, 70.32it/s]\n",
      "  0%|          | 0/469 [00:00<?, ?it/s]"
     ]
    },
    {
     "name": "stdout",
     "output_type": "stream",
     "text": [
      "\n",
      "Test set: Average loss: 0.0320, Accuracy: 9908/10000(99.08%)\n",
      "\n"
     ]
    },
    {
     "name": "stderr",
     "output_type": "stream",
     "text": [
      "epoch: 34 loss=0.3585416078567505 batch_id=468: 100%|██████████| 469/469 [00:06<00:00, 67.15it/s] \n",
      "  0%|          | 0/469 [00:00<?, ?it/s]"
     ]
    },
    {
     "name": "stdout",
     "output_type": "stream",
     "text": [
      "\n",
      "Test set: Average loss: 0.0309, Accuracy: 9914/10000(99.14%)\n",
      "\n"
     ]
    },
    {
     "name": "stderr",
     "output_type": "stream",
     "text": [
      "epoch: 35 loss=0.24736817181110382 batch_id=468: 100%|██████████| 469/469 [00:06<00:00, 77.94it/s]\n",
      "  0%|          | 0/469 [00:00<?, ?it/s]"
     ]
    },
    {
     "name": "stdout",
     "output_type": "stream",
     "text": [
      "\n",
      "Test set: Average loss: 0.0290, Accuracy: 9915/10000(99.15%)\n",
      "\n"
     ]
    },
    {
     "name": "stderr",
     "output_type": "stream",
     "text": [
      "epoch: 36 loss=0.27243536710739136 batch_id=468: 100%|██████████| 469/469 [00:06<00:00, 72.53it/s]\n",
      "  0%|          | 0/469 [00:00<?, ?it/s]"
     ]
    },
    {
     "name": "stdout",
     "output_type": "stream",
     "text": [
      "\n",
      "Test set: Average loss: 0.0293, Accuracy: 9910/10000(99.1%)\n",
      "\n"
     ]
    },
    {
     "name": "stderr",
     "output_type": "stream",
     "text": [
      "epoch: 37 loss=0.36123499274253845 batch_id=468: 100%|██████████| 469/469 [00:06<00:00, 70.96it/s]\n",
      "  0%|          | 0/469 [00:00<?, ?it/s]"
     ]
    },
    {
     "name": "stdout",
     "output_type": "stream",
     "text": [
      "\n",
      "Test set: Average loss: 0.0272, Accuracy: 9913/10000(99.13%)\n",
      "\n",
      "Saving Model\n"
     ]
    },
    {
     "name": "stderr",
     "output_type": "stream",
     "text": [
      "epoch: 38 loss=0.20893222093582153 batch_id=468: 100%|██████████| 469/469 [00:06<00:00, 71.10it/s]\n",
      "  0%|          | 0/469 [00:00<?, ?it/s]"
     ]
    },
    {
     "name": "stdout",
     "output_type": "stream",
     "text": [
      "\n",
      "Test set: Average loss: 0.0275, Accuracy: 9909/10000(99.09%)\n",
      "\n"
     ]
    },
    {
     "name": "stderr",
     "output_type": "stream",
     "text": [
      "epoch: 39 loss=0.36682963371276855 batch_id=468: 100%|██████████| 469/469 [00:06<00:00, 72.43it/s]\n",
      "  0%|          | 0/469 [00:00<?, ?it/s]"
     ]
    },
    {
     "name": "stdout",
     "output_type": "stream",
     "text": [
      "\n",
      "Test set: Average loss: 0.0299, Accuracy: 9902/10000(99.02%)\n",
      "\n"
     ]
    },
    {
     "name": "stderr",
     "output_type": "stream",
     "text": [
      "epoch: 40 loss=0.32032808661460876 batch_id=468: 100%|██████████| 469/469 [00:07<00:00, 66.89it/s]\n",
      "  0%|          | 0/469 [00:00<?, ?it/s]"
     ]
    },
    {
     "name": "stdout",
     "output_type": "stream",
     "text": [
      "\n",
      "Test set: Average loss: 0.0273, Accuracy: 9917/10000(99.17%)\n",
      "\n"
     ]
    },
    {
     "name": "stderr",
     "output_type": "stream",
     "text": [
      "epoch: 41 loss=0.4508014917373657 batch_id=468: 100%|██████████| 469/469 [00:06<00:00, 70.81it/s] \n",
      "  0%|          | 0/469 [00:00<?, ?it/s]"
     ]
    },
    {
     "name": "stdout",
     "output_type": "stream",
     "text": [
      "\n",
      "Test set: Average loss: 0.0294, Accuracy: 9910/10000(99.1%)\n",
      "\n"
     ]
    },
    {
     "name": "stderr",
     "output_type": "stream",
     "text": [
      "epoch: 42 loss=0.2948450744152069 batch_id=468: 100%|██████████| 469/469 [00:06<00:00, 68.27it/s] \n",
      "  0%|          | 0/469 [00:00<?, ?it/s]"
     ]
    },
    {
     "name": "stdout",
     "output_type": "stream",
     "text": [
      "\n",
      "Test set: Average loss: 0.0276, Accuracy: 9913/10000(99.13%)\n",
      "\n"
     ]
    },
    {
     "name": "stderr",
     "output_type": "stream",
     "text": [
      "epoch: 43 loss=0.21684302389621735 batch_id=468: 100%|██████████| 469/469 [00:07<00:00, 66.56it/s]\n",
      "  0%|          | 0/469 [00:00<?, ?it/s]"
     ]
    },
    {
     "name": "stdout",
     "output_type": "stream",
     "text": [
      "\n",
      "Test set: Average loss: 0.0348, Accuracy: 9903/10000(99.03%)\n",
      "\n"
     ]
    },
    {
     "name": "stderr",
     "output_type": "stream",
     "text": [
      "epoch: 44 loss=0.5589818358421326 batch_id=468: 100%|██████████| 469/469 [00:07<00:00, 65.76it/s] \n",
      "  0%|          | 0/469 [00:00<?, ?it/s]"
     ]
    },
    {
     "name": "stdout",
     "output_type": "stream",
     "text": [
      "\n",
      "Test set: Average loss: 0.0252, Accuracy: 9922/10000(99.22%)\n",
      "\n",
      "Saving Model\n"
     ]
    },
    {
     "name": "stderr",
     "output_type": "stream",
     "text": [
      "epoch: 45 loss=0.18097959458827972 batch_id=468: 100%|██████████| 469/469 [00:06<00:00, 76.76it/s]\n",
      "  0%|          | 0/469 [00:00<?, ?it/s]"
     ]
    },
    {
     "name": "stdout",
     "output_type": "stream",
     "text": [
      "\n",
      "Test set: Average loss: 0.0238, Accuracy: 9924/10000(99.24%)\n",
      "\n",
      "Saving Model\n"
     ]
    },
    {
     "name": "stderr",
     "output_type": "stream",
     "text": [
      "epoch: 46 loss=0.26018425822257996 batch_id=468: 100%|██████████| 469/469 [00:06<00:00, 68.79it/s]\n",
      "  0%|          | 0/469 [00:00<?, ?it/s]"
     ]
    },
    {
     "name": "stdout",
     "output_type": "stream",
     "text": [
      "\n",
      "Test set: Average loss: 0.0264, Accuracy: 9917/10000(99.17%)\n",
      "\n"
     ]
    },
    {
     "name": "stderr",
     "output_type": "stream",
     "text": [
      "epoch: 47 loss=0.33303070068359375 batch_id=468: 100%|██████████| 469/469 [00:07<00:00, 66.53it/s]\n",
      "  0%|          | 0/469 [00:00<?, ?it/s]"
     ]
    },
    {
     "name": "stdout",
     "output_type": "stream",
     "text": [
      "\n",
      "Test set: Average loss: 0.0262, Accuracy: 9912/10000(99.11999999999999%)\n",
      "\n"
     ]
    },
    {
     "name": "stderr",
     "output_type": "stream",
     "text": [
      "epoch: 48 loss=0.2898712456226349 batch_id=468: 100%|██████████| 469/469 [00:06<00:00, 69.24it/s] \n",
      "  0%|          | 0/469 [00:00<?, ?it/s]"
     ]
    },
    {
     "name": "stdout",
     "output_type": "stream",
     "text": [
      "\n",
      "Test set: Average loss: 0.0307, Accuracy: 9910/10000(99.1%)\n",
      "\n"
     ]
    },
    {
     "name": "stderr",
     "output_type": "stream",
     "text": [
      "epoch: 49 loss=0.37666091322898865 batch_id=468: 100%|██████████| 469/469 [00:06<00:00, 69.77it/s]\n"
     ]
    },
    {
     "name": "stdout",
     "output_type": "stream",
     "text": [
      "\n",
      "Test set: Average loss: 0.0253, Accuracy: 9914/10000(99.14%)\n",
      "\n"
     ]
    }
   ],
   "source": [
    "OUTPUT_DIR = './'\n",
    "train_losses = []\n",
    "test_losses = []\n",
    "train_accuracy = []\n",
    "test_accuracy = []\n",
    "best_loss = np.Inf\n",
    "for epoch in range(1, CFG.epochs):\n",
    "    trainy_loss,trainy_acc = train(model, train_loader, optimizer,criterion, epoch)\n",
    "    train_accuracy.append(trainy_acc)\n",
    "    train_losses.append(trainy_loss)\n",
    "    testy_loss,testy_acc = test(model,criterion, test_loader)\n",
    "    test_accuracy.append(testy_acc)\n",
    "    test_losses.append(testy_loss)\n",
    "    if testy_loss < best_loss:\n",
    "        best_loss = testy_loss\n",
    "        print(\"Saving Model\")\n",
    "        torch.save({'model': model.state_dict()},\n",
    "                    OUTPUT_DIR+f'{CFG.model_name}_best.pth')"
   ]
  },
  {
   "cell_type": "code",
   "execution_count": 103,
   "metadata": {},
   "outputs": [
    {
     "data": {
      "image/png": "[encoded data removed]",
      "text/plain": [
       "<Figure size 432x288 with 1 Axes>"
      ]
     },
     "metadata": {
      "needs_background": "light"
     },
     "output_type": "display_data"
    }
   ],
   "source": [
    "plt.title('Loss Plots')\n",
    "plt.plot(train_losses,'r',label='Train Loss')\n",
    "plt.plot(test_losses,'g',label = 'Test Loss')\n",
    "plt.legend()\n",
    "plt.savefig('lossplots.png')"
   ]
  },
  {
   "cell_type": "code",
   "execution_count": 104,
   "metadata": {},
   "outputs": [
    {
     "data": {
      "image/png": "[encoded data removed]",
      "text/plain": [
       "<Figure size 432x288 with 1 Axes>"
      ]
     },
     "metadata": {
      "needs_background": "light"
     },
     "output_type": "display_data"
    }
   ],
   "source": [
    "plt.title('Accuracy Plots')\n",
    "plt.plot(train_accuracy,'r',label='Train Loss')\n",
    "plt.plot(test_accuracy,'g',label = 'Test Loss')\n",
    "plt.legend()\n",
    "plt.savefig('accuracyplots.png')"
   ]
  },
  {
   "cell_type": "markdown",
   "metadata": {},
   "source": [
    "## Captcha Dataset\n",
    "We now create a dataset which returns the segmented numbers. We add a dummy 0 incase the number of segments are < 4. "
   ]
  },
  {
   "cell_type": "code",
   "execution_count": 71,
   "metadata": {},
   "outputs": [],
   "source": [
    "class CaptchaDataset(Dataset):\n",
    "    def __init__(self,data,labels,dummy,transforms):\n",
    "        super().__init__()\n",
    "        self.data = data\n",
    "        self.labels = labels\n",
    "        self.transforms = transforms\n",
    "        self.dummy = dummy\n",
    "    \n",
    "    def __len__(self):\n",
    "        return self.labels.shape[0]\n",
    "    \n",
    "    def __getitem__(self,idx):\n",
    "        img = self.data[idx]\n",
    "        labels = self.labels[idx]\n",
    "        segmented = seg_image(img)\n",
    "        final = []\n",
    "        if len(segmented) < 4:\n",
    "            for i in range(4-len(segmented)):\n",
    "                segmented.append(self.dummy)\n",
    "        for i in range(len(segmented)):\n",
    "            final.append(self.transforms(segmented[i]))\n",
    "        return final,torch.tensor(labels)"
   ]
  },
  {
   "cell_type": "code",
   "execution_count": 72,
   "metadata": {},
   "outputs": [],
   "source": [
    "num = train_data.shape[0]\n",
    "indices = list(range(num))\n",
    "np.random.seed(CFG.seed)\n",
    "np.random.shuffle(indices)\n",
    "split = int(np.floor(CFG.valid_size*num))\n",
    "train_idx,valid_idx = indices[split:],indices[:split]"
   ]
  },
  {
   "cell_type": "code",
   "execution_count": 73,
   "metadata": {},
   "outputs": [],
   "source": [
    "transform = transforms.Compose([\n",
    "    transforms.ToPILImage(),\n",
    "    transforms.Resize((CFG.size,CFG.size)),\n",
    "    transforms.ToTensor(),\n",
    "    transforms.Normalize((0.1307,), (0.3081,))\n",
    "])\n",
    "train_dataset = CaptchaDataset(train_data,train_labels,zero,transform)\n",
    "\n",
    "train_sum_loader = DataLoader(train_dataset, batch_size = 1)\n"
   ]
  },
  {
   "cell_type": "code",
   "execution_count": 75,
   "metadata": {},
   "outputs": [],
   "source": [
    "checkpoint = torch.load(f'{CFG.model_name}_best.pth')\n",
    "sum_model = Net()\n",
    "sum_model.load_state_dict(checkpoint['model'])\n",
    "sum_model = sum_model.to(CFG.device)"
   ]
  },
  {
   "cell_type": "markdown",
   "metadata": {},
   "source": [
    "## Evaluation\n",
    "We now evaluate our trained model against the entire given dataset. Note: The training part included MNIST dataset and not the given dataset. We treat the entire given dataset as test dataset"
   ]
  },
  {
   "cell_type": "code",
   "execution_count": 76,
   "metadata": {},
   "outputs": [
    {
     "name": "stderr",
     "output_type": "stream",
     "text": [
      "100%|██████████| 30000/30000 [02:32<00:00, 197.16it/s]\n"
     ]
    }
   ],
   "source": [
    "sum_model.eval()\n",
    "accuracy_metric = AverageMeter()\n",
    "with torch.no_grad():\n",
    "    for data, target in tqdm(train_sum_loader):\n",
    "        target = target.to(CFG.device)\n",
    "        outputs = 0\n",
    "        for i in range(4):\n",
    "            data[i] = data[i].to(CFG.device)\n",
    "            output = sum_model(data[i])\n",
    "            outputs += output.argmax(dim=1, keepdim=True)\n",
    "#         outputs = outputs.flatten()\n",
    "        if torch.unique(target==outputs).item():\n",
    "            accuracy_metric.update(1) \n"
   ]
  },
  {
   "cell_type": "code",
   "execution_count": 105,
   "metadata": {},
   "outputs": [
    {
     "name": "stdout",
     "output_type": "stream",
     "text": [
      "Test Accuracy = 67.18666666666667%\n"
     ]
    }
   ],
   "source": [
    "accuracy_metric.count = len(train_dataset)\n",
    "print(f'Test Accuracy = {100*accuracy_metric.accuracy()}%')"
   ]
  },
  {
   "cell_type": "code",
   "execution_count": null,
   "metadata": {},
   "outputs": [],
   "source": []
  }
 ],
 "metadata": {
  "kernelspec": {
   "display_name": "Python 3",
   "language": "python",
   "name": "python3"
  },
  "language_info": {
   "codemirror_mode": {
    "name": "ipython",
    "version": 3
   },
   "file_extension": ".py",
   "mimetype": "text/x-python",
   "name": "python",
   "nbconvert_exporter": "python",
   "pygments_lexer": "ipython3",
   "version": "3.7.9"
  }
 },
 "nbformat": 4,
 "nbformat_minor": 4
}
