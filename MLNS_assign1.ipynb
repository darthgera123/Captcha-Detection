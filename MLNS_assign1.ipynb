{
 "cells": [
  {
   "cell_type": "code",
   "execution_count": 1,
   "metadata": {},
   "outputs": [],
   "source": [
    "import numpy as np\n",
    "import matplotlib.pyplot as plt\n",
    "import os\n",
    "import cv2\n",
    "import torch\n",
    "import torch.nn as nn\n",
    "import torch.nn.functional as F\n",
    "import torch.optim as optim\n",
    "from torch.utils.data import DataLoader, Dataset\n",
    "from torchvision import datasets, transforms\n",
    "from torch.utils.data.sampler import SubsetRandomSampler\n",
    "from tqdm import tqdm"
   ]
  },
  {
   "cell_type": "code",
   "execution_count": 411,
   "metadata": {},
   "outputs": [
    {
     "name": "stdout",
     "output_type": "stream",
     "text": [
      "(10000, 40, 168) (10000,)\n"
     ]
    }
   ],
   "source": [
    "train_data=np.load('Assign1/Data/data0.npy')\n",
    "train_labels=np.load('Assign1/Data/lab0.npy')\n",
    "# for i in range(1,3):\n",
    "#     temp_data = np.load(f'Assign1/Data/data{i}.npy')\n",
    "#     temp_label = np.load(f'Assign1/Data/lab{i}.npy')\n",
    "#     train_data = np.concatenate((train_data,temp_data))\n",
    "#     train_labels = np.concatenate((train_labels,temp_label))\n",
    "print(train_data.shape,train_labels.shape)"
   ]
  },
  {
   "cell_type": "code",
   "execution_count": 442,
   "metadata": {},
   "outputs": [],
   "source": [
    "def seg_image(img):\n",
    "    w,h = int(168*1.5),int(40*1.5)\n",
    "    img = cv2.resize(img,(w, h))\n",
    "    gray = cv2.copyMakeBorder(img, 8, 8, 8, 8, cv2.BORDER_REPLICATE)\n",
    "    gray = cv2.resize(gray,(w, h))\n",
    "    kernel = np.ones((2, 2), np.uint8) \n",
    "    gray = cv2.erode(gray, kernel)\n",
    "    letter_image_regions = []\n",
    " \n",
    "    # finding the contours\n",
    "    contours, hierarchy = cv2.findContours(gray.copy(), cv2.RETR_EXTERNAL, cv2.CHAIN_APPROX_SIMPLE)[-2:]\n",
    "    for contour in contours:\n",
    "      # Get the rectangle that contains the contour\n",
    "      (x, y, w, h) = cv2.boundingRect(contour)\n",
    "\n",
    "      # checking if any counter is too wide\n",
    "      # if countour is too wide then there could be two letters joined together or are very close to each other\n",
    "      if w / h > 1.25:\n",
    "        # Split it in half into two letter regions\n",
    "        half_width = int(w / 2)\n",
    "        letter_image_regions.append((x, y, half_width, h))\n",
    "        letter_image_regions.append((x + half_width, y, half_width, h))\n",
    "      else:  \n",
    "        letter_image_regions.append((x, y, w, h))\n",
    "    letter_image_regions = sorted(letter_image_regions, key=lambda x: x[0])\n",
    "    segmentation = []\n",
    "    for i in range(len(letter_image_regions)):\n",
    "        x,y,w,h = letter_image_regions[i]\n",
    "#         print(w*h)\n",
    "        if w*h > 100:\n",
    "#             img_dil = cv2.dilate(gray[y - 2:y + h + 2, x - 2:x + w + 2],kernel)\n",
    "            img_dil = gray[y - 2:y + h + 2, x - 2:x + w + 2]\n",
    "            segmentation.append(cv2.dilate(img_dil,kernel))\n",
    "#             segmentation.append(gray[y:y + h, x :x + w ])\n",
    "    return segmentation"
   ]
  },
  {
   "cell_type": "code",
   "execution_count": 446,
   "metadata": {},
   "outputs": [
    {
     "name": "stdout",
     "output_type": "stream",
     "text": [
      "17\n"
     ]
    },
    {
     "data": {
      "image/png": "[encoded data removed]",
      "text/plain": [
       "<Figure size 432x288 with 4 Axes>"
      ]
     },
     "metadata": {
      "needs_background": "light"
     },
     "output_type": "display_data"
    }
   ],
   "source": [
    "ind = 48\n",
    "img = train_data[ind]\n",
    "segs = seg_image(img)\n",
    "zero = segs[-1]\n",
    "print(train_labels[ind])\n",
    "for i in range(len(segs)):\n",
    "    plt.subplot(1,len(segs),i+1)\n",
    "    plt.imshow(segs[i])"
   ]
  },
  {
   "cell_type": "markdown",
   "metadata": {},
   "source": [
    "This will be a 2 step process. We first train a simple model capable of doing MNIST digit recognition. Then we take 4 instances of this model and pass our 4 outputs through them and the output is taken as an input vector to the final layer. The output of the final layer is our answer which is compared with the label that we have. We first train the model and then train the whole thing end 2 end."
   ]
  },
  {
   "cell_type": "code",
   "execution_count": 447,
   "metadata": {},
   "outputs": [],
   "source": [
    "class CFG:\n",
    "    batch_size=128\n",
    "    momentum_value = 0.9\n",
    "    epochs=50\n",
    "    lr = 1e-2\n",
    "    seed = 42\n",
    "    num_workers=4\n",
    "    device = 'cuda' if torch.cuda.is_available() else 'cpu'\n",
    "    model_name='custom'\n",
    "    valid_size = 0.3\n",
    "    size=28"
   ]
  },
  {
   "cell_type": "code",
   "execution_count": 458,
   "metadata": {},
   "outputs": [],
   "source": [
    "torch.manual_seed(CFG.seed)\n",
    "RandAffine = transforms.RandomAffine(degrees=45, translate=(0.1, 0.1), scale=(0.8, 1.2))\n",
    "\n",
    "\n",
    "train_loader = torch.utils.data.DataLoader(\n",
    "    datasets.MNIST('data', train=True, download=True,\n",
    "    transform=transforms.Compose([\n",
    "        transforms.ToTensor(),\n",
    "#         RandAffine,\n",
    "        transforms.Normalize((0.1307,), (0.3081,)),\n",
    "#         transforms.RandomErasing(p=0.3)\n",
    "        ])),\n",
    "    batch_size=CFG.batch_size, shuffle=True, num_workers=CFG.num_workers)\n",
    "\n",
    "test_loader = torch.utils.data.DataLoader(\n",
    "    datasets.MNIST('data', train=False,\n",
    "    transform=transforms.Compose([\n",
    "        transforms.ToTensor(),\n",
    "        transforms.Normalize((0.1307,), (0.3081,))\n",
    "        ])),\n",
    "     batch_size=CFG.batch_size, shuffle=True, num_workers=CFG.num_workers)"
   ]
  },
  {
   "cell_type": "code",
   "execution_count": 459,
   "metadata": {},
   "outputs": [],
   "source": [
    "class BaseModel(nn.Module):\n",
    "    def __init__(self):\n",
    "        super(BaseModel,self).__init__()\n",
    "        self.layer1 = nn.Sequential(nn.Conv2d(1,10,kernel_size=5),\n",
    "                                   nn.MaxPool2d(2,2),\n",
    "                                   nn.ReLU(inplace=True))\n",
    "        self.layer2 = nn.Sequential(nn.Conv2d(10,20,kernel_size=5),\n",
    "                                   nn.MaxPool2d(2,2),\n",
    "                                   nn.ReLU(inplace=True))\n",
    "        self.fc1 = nn.Sequential(nn.Linear(320,50),\n",
    "                                 nn.ReLU(inplace=True))\n",
    "        self.fc2 = nn.Linear(50,10)\n",
    "    def forward(self,x):\n",
    "        x = self.layer1(x)\n",
    "        x = self.layer2(x)\n",
    "        x = x.view(-1,320)\n",
    "        x = self.fc1(x)\n",
    "        x = self.fc2(x)\n",
    "        return F.log_softmax(x)\n",
    "class BatchModel(nn.Module):\n",
    "    def __init__(self):\n",
    "        super(BatchModel,self).__init__()\n",
    "        self.layer1 = nn.Sequential(nn.Conv2d(1,128,kernel_size=3,padding=1),\n",
    "                                   nn.ReLU(inplace=True),\n",
    "                                   nn.BatchNorm2d(num_features=128),\n",
    "                                   nn.Conv2d(128,4,kernel_size=1,padding=1))\n",
    "        self.layer2 = nn.Sequential(nn.Conv2d(4,16,kernel_size=3,padding=1),\n",
    "                                   nn.ReLU(inplace=True),\n",
    "                                   nn.BatchNorm2d(num_features=16),\n",
    "                                   nn.Dropout2d(0.1))\n",
    "        self.layer3 = nn.Sequential(nn.Conv2d(16,16,kernel_size=3,padding=1),\n",
    "                                   nn.ReLU(inplace=True),\n",
    "                                   nn.BatchNorm2d(num_features=16),\n",
    "                                   nn.Dropout2d(0.1))\n",
    "        self.layer4 = nn.Sequential(nn.Conv2d(16,32,kernel_size=3,padding=1),\n",
    "                                   nn.ReLU(inplace=True),\n",
    "                                   nn.BatchNorm2d(num_features=32),\n",
    "                                   nn.Dropout2d(0.1))\n",
    "        self.trn2 = nn.Conv2d(32,16,kernel_size=1,padding=1)\n",
    "        self.pool1 = nn.MaxPool2d(2,2)\n",
    "        self.pool2 = nn.MaxPool2d(2,2)\n",
    "        self.layer5 = nn.Sequential(nn.Conv2d(16,32,kernel_size=3,padding=1),\n",
    "                                   nn.ReLU(inplace=True),\n",
    "                                   nn.BatchNorm2d(num_features=32),\n",
    "                                   nn.Dropout2d(0.1))\n",
    "        self.layer6 = nn.Sequential(nn.Conv2d(32,64,kernel_size=3,padding=1),\n",
    "                                   nn.ReLU(inplace=True),\n",
    "                                   nn.BatchNorm2d(num_features=64),\n",
    "                                   nn.Dropout2d(0.1))\n",
    "        self.layer7 = nn.Conv2d(64,10,kernel_size=1,padding=1)\n",
    "        self.gpool = nn.AvgPool2d(kernel_size=7)\n",
    "        \n",
    "    def forward(self,x):\n",
    "        x = self.layer1(x)\n",
    "        x = self.layer2(x)\n",
    "        x = self.pool1(x)\n",
    "        x = self.layer3(x)\n",
    "        x = self.layer4(x)\n",
    "        x = self.trn2(self.pool2(x))\n",
    "        x = self.layer5(x)\n",
    "        x = self.layer6(x)\n",
    "        x = self.layer7(x)\n",
    "        x = self.gpool(x)\n",
    "        x = x.view(-1,10)\n",
    "        return F.log_softmax(x)\n",
    "    \n",
    "from torchvision.models.resnet import ResNet, BasicBlock, Bottleneck\n",
    "\n",
    "class MNISTResNet(ResNet):\n",
    "    def __init__(self):\n",
    "        super(MNISTResNet, self).__init__(BasicBlock, [2, 2, 2, 2], num_classes=10) # Based on ResNet18\n",
    "        # super(MNISTResNet, self).__init__(BasicBlock, [3, 4, 6, 3], num_classes=10) # Based on ResNet34\n",
    "        # super(MNISTResNet, self).__init__(Bottleneck, [3, 4, 6, 3], num_classes=10) # Based on ResNet50\n",
    "        self.conv1 = nn.Conv2d(1, 64, kernel_size=7, stride=1, padding=3,bias=False)\n",
    "class AverageMeter(object):\n",
    "    def __init__(self):\n",
    "        self.reset()\n",
    "    \n",
    "    def reset(self):\n",
    "        self.val = 0\n",
    "        self.avg = 0\n",
    "        self.sum = 0\n",
    "        self.count = 0\n",
    "        \n",
    "    def update(self,val,n=1):\n",
    "        self.val += val\n",
    "        self.sum += val*n\n",
    "        self.count += n\n",
    "        self.avg = self.sum/self.count"
   ]
  },
  {
   "cell_type": "code",
   "execution_count": 460,
   "metadata": {},
   "outputs": [],
   "source": [
    "model = BatchModel()\n",
    "model = model.to(CFG.device)\n",
    "optimizer = optim.Adam(model.parameters(),lr=CFG.lr)\n",
    "criterion = nn.CrossEntropyLoss()"
   ]
  },
  {
   "cell_type": "code",
   "execution_count": 461,
   "metadata": {},
   "outputs": [],
   "source": [
    "from tqdm import tqdm\n",
    "def train(model,train_loader, optimizer,criterion, epoch):\n",
    "    train_loss = AverageMeter()\n",
    "    model.train()\n",
    "    pbar = tqdm(train_loader)\n",
    "    for batch_idx, (data, target) in enumerate(pbar):\n",
    "        data, target = data.to(CFG.device), target.to(CFG.device)\n",
    "        optimizer.zero_grad()\n",
    "        output = model(data)\n",
    "        loss = criterion(output, target)\n",
    "        loss.backward()\n",
    "        optimizer.step()\n",
    "        pbar.set_description(desc= f'epoch: {epoch} loss={loss.item()} batch_id={batch_idx}')\n",
    "        train_loss.update(loss.item())\n",
    "    return train_loss.avg\n",
    "\n",
    "def test(model, criterion,test_loader):\n",
    "    model.eval()\n",
    "    test_loss = AverageMeter()\n",
    "    correct = 0\n",
    "    with torch.no_grad():\n",
    "        for data, target in test_loader:\n",
    "            data, target = data.to(CFG.device), target.to(CFG.device)\n",
    "            output = model(data)\n",
    "            test_loss.update(criterion(output, target).item())\n",
    "            pred = output.argmax(dim=1, keepdim=True)\n",
    "            correct +=pred.eq(target.view_as(pred)).sum().item()\n",
    "#     test_loss /= len(test_loader.dataset)\n",
    "    print('\\nTest set: Average loss: {:.4f}, Accuracy: {}/{}({:.1f}%)\\n'.format(test_loss.avg, correct,\\\n",
    "          len(test_loader.dataset), 100. * correct /\n",
    "          len(test_loader.dataset)))\n",
    "    return test_loss.avg"
   ]
  },
  {
   "cell_type": "code",
   "execution_count": null,
   "metadata": {},
   "outputs": [
    {
     "name": "stderr",
     "output_type": "stream",
     "text": [
      "  0%|          | 0/469 [00:00<?, ?it/s]/home/darthgera123/anaconda3/envs/redner/lib/python3.7/site-packages/ipykernel_launcher.py:65: UserWarning: Implicit dimension choice for log_softmax has been deprecated. Change the call to include dim=X as an argument.\n",
      "epoch: 1 loss=0.16503627598285675 batch_id=468: 100%|██████████| 469/469 [00:06<00:00, 74.99it/s] \n",
      "  0%|          | 0/469 [00:00<?, ?it/s]"
     ]
    },
    {
     "name": "stdout",
     "output_type": "stream",
     "text": [
      "\n",
      "Test set: Average loss: 0.0469, Accuracy: 9843/10000(98.4%)\n",
      "\n",
      "Saving Model\n"
     ]
    },
    {
     "name": "stderr",
     "output_type": "stream",
     "text": [
      "epoch: 2 loss=0.14419226348400116 batch_id=468: 100%|██████████| 469/469 [00:06<00:00, 74.37it/s] \n",
      "  0%|          | 0/469 [00:00<?, ?it/s]"
     ]
    },
    {
     "name": "stdout",
     "output_type": "stream",
     "text": [
      "\n",
      "Test set: Average loss: 0.0383, Accuracy: 9880/10000(98.8%)\n",
      "\n",
      "Saving Model\n"
     ]
    },
    {
     "name": "stderr",
     "output_type": "stream",
     "text": [
      "epoch: 3 loss=0.021172301843762398 batch_id=468: 100%|██████████| 469/469 [00:06<00:00, 75.34it/s] \n",
      "  0%|          | 0/469 [00:00<?, ?it/s]"
     ]
    },
    {
     "name": "stdout",
     "output_type": "stream",
     "text": [
      "\n",
      "Test set: Average loss: 0.0272, Accuracy: 9912/10000(99.1%)\n",
      "\n",
      "Saving Model\n"
     ]
    },
    {
     "name": "stderr",
     "output_type": "stream",
     "text": [
      "epoch: 4 loss=0.03742813318967819 batch_id=468: 100%|██████████| 469/469 [00:06<00:00, 73.98it/s]  \n",
      "  0%|          | 0/469 [00:00<?, ?it/s]"
     ]
    },
    {
     "name": "stdout",
     "output_type": "stream",
     "text": [
      "\n",
      "Test set: Average loss: 0.0261, Accuracy: 9918/10000(99.2%)\n",
      "\n",
      "Saving Model\n"
     ]
    },
    {
     "name": "stderr",
     "output_type": "stream",
     "text": [
      "epoch: 5 loss=0.11756785959005356 batch_id=468: 100%|██████████| 469/469 [00:06<00:00, 74.95it/s]  \n",
      "  0%|          | 0/469 [00:00<?, ?it/s]"
     ]
    },
    {
     "name": "stdout",
     "output_type": "stream",
     "text": [
      "\n",
      "Test set: Average loss: 0.0225, Accuracy: 9923/10000(99.2%)\n",
      "\n",
      "Saving Model\n"
     ]
    },
    {
     "name": "stderr",
     "output_type": "stream",
     "text": [
      "epoch: 6 loss=0.008100965060293674 batch_id=468: 100%|██████████| 469/469 [00:06<00:00, 76.48it/s] \n",
      "  0%|          | 0/469 [00:00<?, ?it/s]"
     ]
    },
    {
     "name": "stdout",
     "output_type": "stream",
     "text": [
      "\n",
      "Test set: Average loss: 0.0246, Accuracy: 9924/10000(99.2%)\n",
      "\n"
     ]
    },
    {
     "name": "stderr",
     "output_type": "stream",
     "text": [
      "epoch: 7 loss=0.09087568521499634 batch_id=468: 100%|██████████| 469/469 [00:06<00:00, 73.55it/s]  \n",
      "  0%|          | 0/469 [00:00<?, ?it/s]"
     ]
    },
    {
     "name": "stdout",
     "output_type": "stream",
     "text": [
      "\n",
      "Test set: Average loss: 0.0242, Accuracy: 9924/10000(99.2%)\n",
      "\n"
     ]
    },
    {
     "name": "stderr",
     "output_type": "stream",
     "text": [
      "epoch: 8 loss=0.11058909446001053 batch_id=468: 100%|██████████| 469/469 [00:06<00:00, 74.42it/s]  \n",
      "  0%|          | 0/469 [00:00<?, ?it/s]"
     ]
    },
    {
     "name": "stdout",
     "output_type": "stream",
     "text": [
      "\n",
      "Test set: Average loss: 0.0270, Accuracy: 9913/10000(99.1%)\n",
      "\n"
     ]
    },
    {
     "name": "stderr",
     "output_type": "stream",
     "text": [
      "epoch: 9 loss=0.008050602860748768 batch_id=468: 100%|██████████| 469/469 [00:06<00:00, 73.79it/s] \n",
      "  0%|          | 0/469 [00:00<?, ?it/s]"
     ]
    },
    {
     "name": "stdout",
     "output_type": "stream",
     "text": [
      "\n",
      "Test set: Average loss: 0.0214, Accuracy: 9934/10000(99.3%)\n",
      "\n",
      "Saving Model\n"
     ]
    },
    {
     "name": "stderr",
     "output_type": "stream",
     "text": [
      "epoch: 10 loss=0.020281817764043808 batch_id=468: 100%|██████████| 469/469 [00:06<00:00, 73.49it/s] \n",
      "  0%|          | 0/469 [00:00<?, ?it/s]"
     ]
    },
    {
     "name": "stdout",
     "output_type": "stream",
     "text": [
      "\n",
      "Test set: Average loss: 0.0263, Accuracy: 9918/10000(99.2%)\n",
      "\n"
     ]
    },
    {
     "name": "stderr",
     "output_type": "stream",
     "text": [
      "epoch: 11 loss=0.015991559252142906 batch_id=468: 100%|██████████| 469/469 [00:06<00:00, 74.48it/s] \n",
      "  0%|          | 0/469 [00:00<?, ?it/s]"
     ]
    },
    {
     "name": "stdout",
     "output_type": "stream",
     "text": [
      "\n",
      "Test set: Average loss: 0.0194, Accuracy: 9938/10000(99.4%)\n",
      "\n",
      "Saving Model\n"
     ]
    },
    {
     "name": "stderr",
     "output_type": "stream",
     "text": [
      "epoch: 12 loss=0.02028299681842327 batch_id=468: 100%|██████████| 469/469 [00:06<00:00, 75.75it/s]  \n",
      "  0%|          | 0/469 [00:00<?, ?it/s]"
     ]
    },
    {
     "name": "stdout",
     "output_type": "stream",
     "text": [
      "\n",
      "Test set: Average loss: 0.0260, Accuracy: 9910/10000(99.1%)\n",
      "\n"
     ]
    },
    {
     "name": "stderr",
     "output_type": "stream",
     "text": [
      "epoch: 13 loss=0.0026078270748257637 batch_id=468: 100%|██████████| 469/469 [00:06<00:00, 71.95it/s]\n",
      "  0%|          | 0/469 [00:00<?, ?it/s]"
     ]
    },
    {
     "name": "stdout",
     "output_type": "stream",
     "text": [
      "\n",
      "Test set: Average loss: 0.0141, Accuracy: 9954/10000(99.5%)\n",
      "\n",
      "Saving Model\n"
     ]
    },
    {
     "name": "stderr",
     "output_type": "stream",
     "text": [
      "epoch: 14 loss=0.01016510184854269 batch_id=468: 100%|██████████| 469/469 [00:06<00:00, 73.47it/s]  \n",
      "  0%|          | 0/469 [00:00<?, ?it/s]"
     ]
    },
    {
     "name": "stdout",
     "output_type": "stream",
     "text": [
      "\n",
      "Test set: Average loss: 0.0199, Accuracy: 9932/10000(99.3%)\n",
      "\n"
     ]
    },
    {
     "name": "stderr",
     "output_type": "stream",
     "text": [
      "epoch: 15 loss=0.013474944047629833 batch_id=468: 100%|██████████| 469/469 [00:06<00:00, 71.79it/s] \n",
      "  0%|          | 0/469 [00:00<?, ?it/s]"
     ]
    },
    {
     "name": "stdout",
     "output_type": "stream",
     "text": [
      "\n",
      "Test set: Average loss: 0.0211, Accuracy: 9931/10000(99.3%)\n",
      "\n"
     ]
    },
    {
     "name": "stderr",
     "output_type": "stream",
     "text": [
      "epoch: 16 loss=0.004722960758954287 batch_id=468: 100%|██████████| 469/469 [00:06<00:00, 75.15it/s] \n",
      "  0%|          | 0/469 [00:00<?, ?it/s]"
     ]
    },
    {
     "name": "stdout",
     "output_type": "stream",
     "text": [
      "\n",
      "Test set: Average loss: 0.0229, Accuracy: 9928/10000(99.3%)\n",
      "\n"
     ]
    },
    {
     "name": "stderr",
     "output_type": "stream",
     "text": [
      "epoch: 17 loss=0.01000788901001215 batch_id=320:  68%|██████▊   | 320/469 [00:04<00:01, 78.03it/s]  "
     ]
    }
   ],
   "source": [
    "OUTPUT_DIR = './'\n",
    "train_losses = []\n",
    "test_losses = []\n",
    "best_loss = np.Inf\n",
    "for epoch in range(1, CFG.epochs):\n",
    "    train_losses.append(train(model, train_loader, optimizer,criterion, epoch))\n",
    "    testy_loss = test(model,criterion, test_loader)\n",
    "    test_losses.append(testy_loss)\n",
    "    if testy_loss < best_loss:\n",
    "        best_loss = testy_loss\n",
    "        print(\"Saving Model\")\n",
    "        torch.save({'model': model.state_dict()},\n",
    "                    OUTPUT_DIR+f'{CFG.model_name}_best.pth')"
   ]
  },
  {
   "cell_type": "code",
   "execution_count": 400,
   "metadata": {},
   "outputs": [
    {
     "data": {
      "text/plain": [
       "[<matplotlib.lines.Line2D at 0x15271479fed0>]"
      ]
     },
     "execution_count": 400,
     "metadata": {},
     "output_type": "execute_result"
    },
    {
     "data": {
      "image/png": "[encoded data removed]",
      "text/plain": [
       "<Figure size 432x288 with 1 Axes>"
      ]
     },
     "metadata": {
      "needs_background": "light"
     },
     "output_type": "display_data"
    }
   ],
   "source": [
    "plt.plot(train_losses)"
   ]
  },
  {
   "cell_type": "code",
   "execution_count": 401,
   "metadata": {},
   "outputs": [
    {
     "data": {
      "text/plain": [
       "[<matplotlib.lines.Line2D at 0x1527144c0290>]"
      ]
     },
     "execution_count": 401,
     "metadata": {},
     "output_type": "execute_result"
    },
    {
     "data": {
      "image/png": "[encoded data removed]",
      "text/plain": [
       "<Figure size 432x288 with 1 Axes>"
      ]
     },
     "metadata": {
      "needs_background": "light"
     },
     "output_type": "display_data"
    }
   ],
   "source": [
    "plt.plot(test_losses)"
   ]
  },
  {
   "cell_type": "code",
   "execution_count": 408,
   "metadata": {},
   "outputs": [],
   "source": [
    "class CaptchaDataset(Dataset):\n",
    "    def __init__(self,data,labels,dummy,transforms):\n",
    "        super().__init__()\n",
    "        self.data = data\n",
    "        self.labels = labels\n",
    "        self.transforms = transforms\n",
    "        self.dummy = dummy\n",
    "    \n",
    "    def __len__(self):\n",
    "        return self.labels.shape[0]\n",
    "    \n",
    "    def __getitem__(self,idx):\n",
    "        img = self.data[idx]\n",
    "        labels = self.labels[idx]\n",
    "        segmented = seg_image(img)\n",
    "        final = []\n",
    "        if len(segmented) < 4:\n",
    "            for i in range(4-len(segmented)):\n",
    "                segmented.append(self.dummy)\n",
    "        for i in range(len(segmented)):\n",
    "            final.append(self.transforms(segmented[i]))\n",
    "        return final,torch.tensor(labels)"
   ]
  },
  {
   "cell_type": "code",
   "execution_count": 280,
   "metadata": {},
   "outputs": [],
   "source": [
    "num = train_data.shape[0]\n",
    "indices = list(range(num))\n",
    "np.random.seed(CFG.seed)\n",
    "np.random.shuffle(indices)\n",
    "split = int(np.floor(CFG.valid_size*num))\n",
    "train_idx,valid_idx = indices[split:],indices[:split]"
   ]
  },
  {
   "cell_type": "code",
   "execution_count": 409,
   "metadata": {},
   "outputs": [],
   "source": [
    "transform = transforms.Compose([\n",
    "    transforms.ToPILImage(),\n",
    "    transforms.Resize((CFG.size,CFG.size)),\n",
    "    transforms.ToTensor(),\n",
    "    transforms.Normalize((0.1307,), (0.3081,))\n",
    "])\n",
    "train_dataset = CaptchaDataset(train_data,train_labels,zero,transform)\n",
    "# val_dataset = CaptchaDataset(train_data[valid_idx],train_labels[valid_idx],zero,transform)\n",
    "\n",
    "# train_sampler = SubsetRandomSampler(train_idx)\n",
    "# valid_sampler = SubsetRandomSampler(valid_idx)\n",
    "\n",
    "train_sum_loader = DataLoader(train_dataset, batch_size = 1)\n",
    "valid_sum_loader = DataLoader(val_dataset, batch_size = CFG.batch_size)\n"
   ]
  },
  {
   "cell_type": "code",
   "execution_count": 266,
   "metadata": {},
   "outputs": [],
   "source": [
    "class SumModel(nn.Module):\n",
    "#     update on getting the latest model. rn we initialize the untrained one\n",
    "    def __init__(self,checkpoint):\n",
    "        super(SumModel,self).__init__()\n",
    "        self.model = BaseModel()\n",
    "        self.model.load_state_dict(checkpoint['model'])\n",
    "        \n",
    "    def forward(self,a,b,c,d):\n",
    "        outputs = 0\n",
    "        x = [a,b,c,d]\n",
    "        for i in range(4):\n",
    "            output = self.model(x[i])\n",
    "            outputs += output.argmax(dim=1, keepdim=True)\n",
    "        return outputs\n",
    "        "
   ]
  },
  {
   "cell_type": "code",
   "execution_count": 406,
   "metadata": {},
   "outputs": [],
   "source": [
    "checkpoint = torch.load(f'{CFG.model_name}_best.pth')\n",
    "sum_model = MNISTResNet()\n",
    "sum_model.load_state_dict(checkpoint['model'])\n",
    "sum_model = sum_model.to(CFG.device)\n",
    "# optimizer = optim.SGD(sum_model.parameters(),lr=CFG.lr,momentum=CFG.momentum_value)\n",
    "# criterion = nn.MSELoss()"
   ]
  },
  {
   "cell_type": "code",
   "execution_count": 410,
   "metadata": {},
   "outputs": [
    {
     "name": "stderr",
     "output_type": "stream",
     "text": [
      "100%|██████████| 10000/10000 [02:12<00:00, 75.62it/s]\n"
     ]
    },
    {
     "data": {
      "text/plain": [
       "51.839999999999996"
      ]
     },
     "execution_count": 410,
     "metadata": {},
     "output_type": "execute_result"
    }
   ],
   "source": [
    "sum_model.eval()\n",
    "test_loss = AverageMeter()\n",
    "correct = 0\n",
    "with torch.no_grad():\n",
    "    for data, target in tqdm(train_sum_loader):\n",
    "        target = target.to(CFG.device)\n",
    "        outputs = 0\n",
    "        for i in range(4):\n",
    "            data[i] = data[i].to(CFG.device)\n",
    "            output = sum_model(data[i])\n",
    "            outputs += output.argmax(dim=1, keepdim=True)\n",
    "#         outputs = outputs.flatten()\n",
    "        if torch.unique(target==outputs).item():\n",
    "            correct += 1\n",
    "correct/len(train_dataset)*100"
   ]
  },
  {
   "cell_type": "code",
   "execution_count": null,
   "metadata": {},
   "outputs": [],
   "source": []
  }
 ],
 "metadata": {
  "kernelspec": {
   "display_name": "Python 3",
   "language": "python",
   "name": "python3"
  },
  "language_info": {
   "codemirror_mode": {
    "name": "ipython",
    "version": 3
   },
   "file_extension": ".py",
   "mimetype": "text/x-python",
   "name": "python",
   "nbconvert_exporter": "python",
   "pygments_lexer": "ipython3",
   "version": "3.7.9"
  }
 },
 "nbformat": 4,
 "nbformat_minor": 4
}
